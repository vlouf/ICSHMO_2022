{
 "cells": [
  {
   "cell_type": "markdown",
   "id": "large-filter",
   "metadata": {},
   "source": [
    "# Introduction to gridding and working with grids\n",
    "A common activity for working with scanning radar data is the estimation of the radar measuremets (and retrievals) on a regularly spaced grid. This could be for GIS purposes, the compraring to other data sources or for comparisons to model outputs. "
   ]
  },
  {
   "cell_type": "code",
   "execution_count": null,
   "id": "color-timber",
   "metadata": {
    "ExecuteTime": {
     "end_time": "2022-02-07T05:38:42.731630Z",
     "start_time": "2022-02-07T05:38:39.801986Z"
    }
   },
   "outputs": [],
   "source": [
    "import cartopy.crs as ccrs\n",
    "import matplotlib.pyplot as plt\n",
    "import numpy as np\n",
    "import pyart\n",
    "import os\n",
    "import cartopy.crs as ccrs\n",
    "import cartopy.feature as cfeature\n",
    "\n",
    "\n",
    "import matplotlib.ticker as mticker\n",
    "\n"
   ]
  },
  {
   "cell_type": "code",
   "execution_count": null,
   "id": "varying-principal",
   "metadata": {
    "ExecuteTime": {
     "end_time": "2022-02-07T05:38:42.765393Z",
     "start_time": "2022-02-07T05:38:42.733481Z"
    }
   },
   "outputs": [],
   "source": [
    "#Lets read in our data set\n",
    "radar = pyart.io.read(\"../01 - Introduction/data/OceanPOL-20191225-123000.nc\", \n",
    "                      delay_field_loading = True)\n"
   ]
  },
  {
   "cell_type": "markdown",
   "id": "treated-salon",
   "metadata": {},
   "source": [
    "## Lets get some basic geometry about our radar data"
   ]
  },
  {
   "cell_type": "code",
   "execution_count": null,
   "id": "lined-closing",
   "metadata": {
    "ExecuteTime": {
     "end_time": "2022-02-07T05:38:43.133886Z",
     "start_time": "2022-02-07T05:38:42.766810Z"
    }
   },
   "outputs": [],
   "source": [
    "max_lat = radar.gate_latitude['data'].max()\n",
    "min_lat = radar.gate_latitude['data'].min()\n",
    "max_lon = radar.gate_longitude['data'].max()\n",
    "min_lon = radar.gate_longitude['data'].min()\n",
    "print(max_lat, min_lat, max_lon, min_lon)\n",
    "\n",
    "height = radar.gate_altitude\n",
    "lats = radar.gate_latitude\n",
    "lons = radar.gate_longitude\n",
    "lat_lines = np.arange(min_lat, max_lat, .5)\n",
    "lon_lines = np.arange(min_lon, max_lon, .5)\n"
   ]
  },
  {
   "cell_type": "markdown",
   "id": "fitting-lease",
   "metadata": {},
   "source": [
    "## Lets take a look at all the bells and whistles on Py-ART's Gridder"
   ]
  },
  {
   "cell_type": "code",
   "execution_count": null,
   "id": "hazardous-panama",
   "metadata": {
    "ExecuteTime": {
     "end_time": "2022-02-07T05:38:43.168493Z",
     "start_time": "2022-02-07T05:38:43.135075Z"
    }
   },
   "outputs": [],
   "source": [
    "pyart.map.map_gates_to_grid?"
   ]
  },
  {
   "cell_type": "markdown",
   "id": "crude-catalog",
   "metadata": {},
   "source": [
    "## Lets make a regular grid \n",
    "31 vertical levels, 301 by 301 horizontal points. 0 to 15km in height, and -120 to 120km in x and y. "
   ]
  },
  {
   "cell_type": "code",
   "execution_count": null,
   "id": "current-cowboy",
   "metadata": {
    "ExecuteTime": {
     "end_time": "2022-02-07T05:38:54.871007Z",
     "start_time": "2022-02-07T05:38:43.170184Z"
    }
   },
   "outputs": [],
   "source": [
    "grids = pyart.map.grid_from_radars(radar,(31,301,301),\n",
    "                   ((0.,15000.),(-120000.,120000.),(-120000.,120000.)),\n",
    "                   refl_field='corrected_reflectivity', weighting_function='Barnes2')"
   ]
  },
  {
   "cell_type": "markdown",
   "id": "formed-project",
   "metadata": {},
   "source": [
    "# So what did we get???"
   ]
  },
  {
   "cell_type": "code",
   "execution_count": null,
   "id": "injured-pharmacology",
   "metadata": {
    "ExecuteTime": {
     "end_time": "2022-02-07T05:38:54.876484Z",
     "start_time": "2022-02-07T05:38:54.872531Z"
    }
   },
   "outputs": [],
   "source": [
    "grids?"
   ]
  },
  {
   "cell_type": "code",
   "execution_count": null,
   "id": "listed-poker",
   "metadata": {
    "ExecuteTime": {
     "end_time": "2022-02-07T05:38:54.888145Z",
     "start_time": "2022-02-07T05:38:54.877510Z"
    }
   },
   "outputs": [],
   "source": [
    "grids.fields.keys()"
   ]
  },
  {
   "cell_type": "markdown",
   "id": "consecutive-hundred",
   "metadata": {},
   "source": [
    "## Why your own grid object? What about xarray?\n",
    "When Py-ART was being developed xarray was very new.. but fear not! We have a simple method for converting"
   ]
  },
  {
   "cell_type": "code",
   "execution_count": null,
   "id": "elementary-michigan",
   "metadata": {
    "ExecuteTime": {
     "end_time": "2022-02-07T05:38:54.894258Z",
     "start_time": "2022-02-07T05:38:54.889353Z"
    }
   },
   "outputs": [],
   "source": [
    "grids.to_xarray?"
   ]
  },
  {
   "cell_type": "code",
   "execution_count": null,
   "id": "intelligent-retail",
   "metadata": {
    "ExecuteTime": {
     "end_time": "2022-02-07T05:38:54.943492Z",
     "start_time": "2022-02-07T05:38:54.895560Z"
    }
   },
   "outputs": [],
   "source": [
    "xgrids = grids.to_xarray()\n"
   ]
  },
  {
   "cell_type": "code",
   "execution_count": null,
   "id": "discrete-business",
   "metadata": {
    "ExecuteTime": {
     "end_time": "2022-02-07T05:38:54.987820Z",
     "start_time": "2022-02-07T05:38:54.944647Z"
    }
   },
   "outputs": [],
   "source": [
    "xgrids"
   ]
  },
  {
   "cell_type": "code",
   "execution_count": null,
   "id": "objective-gallery",
   "metadata": {
    "ExecuteTime": {
     "end_time": "2022-02-07T05:38:55.002832Z",
     "start_time": "2022-02-07T05:38:54.988803Z"
    }
   },
   "outputs": [],
   "source": [
    "xgrids.corrected_reflectivity.mean()"
   ]
  },
  {
   "cell_type": "code",
   "execution_count": null,
   "id": "parliamentary-plumbing",
   "metadata": {
    "ExecuteTime": {
     "end_time": "2022-02-07T05:38:55.021488Z",
     "start_time": "2022-02-07T05:38:55.003816Z"
    }
   },
   "outputs": [],
   "source": [
    "xgrids.corrected_reflectivity.sel(z=500, time=xgrids.time[0])"
   ]
  },
  {
   "cell_type": "code",
   "execution_count": null,
   "id": "smoking-victorian",
   "metadata": {
    "ExecuteTime": {
     "end_time": "2022-02-07T05:38:55.307307Z",
     "start_time": "2022-02-07T05:38:55.022656Z"
    }
   },
   "outputs": [],
   "source": [
    "xgrids.corrected_reflectivity.sel(z=500, time=xgrids.time[0]).plot.pcolormesh(cmap=pyart.graph.cm_colorblind.HomeyerRainbow, vmin=-6, vmax=64)"
   ]
  },
  {
   "cell_type": "code",
   "execution_count": null,
   "id": "sensitive-cheese",
   "metadata": {
    "ExecuteTime": {
     "end_time": "2022-02-07T05:38:55.896542Z",
     "start_time": "2022-02-07T05:38:55.313186Z"
    },
    "scrolled": true
   },
   "outputs": [],
   "source": [
    "fig = plt.figure(figsize=[15, 7])\n",
    "ax = plt.axes(projection=ccrs.LambertConformal())\n",
    "pc = xgrids.corrected_reflectivity.sel(z=3000, \n",
    "                        time=xgrids.time[0]).plot.pcolormesh(cmap=pyart.graph.cm_colorblind.HomeyerRainbow, \n",
    "                                                             vmin=-6, vmax=64)\n",
    "gl = ax.gridlines(draw_labels=True,\n",
    "                  linewidth=2, color='gray', alpha=0.5, linestyle='--')"
   ]
  },
  {
   "cell_type": "code",
   "execution_count": null,
   "id": "olive-lancaster",
   "metadata": {
    "ExecuteTime": {
     "end_time": "2022-02-07T05:38:56.064757Z",
     "start_time": "2022-02-07T05:38:55.897649Z"
    }
   },
   "outputs": [],
   "source": [
    "fig = plt.figure(figsize=[15, 7])\n",
    "pc = xgrids.corrected_reflectivity.sel(x=0, time=xgrids.time[0]).plot.pcolormesh(cmap=pyart.graph.cm_colorblind.HomeyerRainbow,\n",
    "                                                                      vmin=-6, vmax=64)\n",
    "\n"
   ]
  },
  {
   "cell_type": "code",
   "execution_count": null,
   "id": "casual-creek",
   "metadata": {
    "ExecuteTime": {
     "end_time": "2022-02-07T05:38:56.068659Z",
     "start_time": "2022-02-07T05:38:56.065781Z"
    }
   },
   "outputs": [],
   "source": [
    "# A little trick with much thanks to Ryan Abernathy\n",
    "\n",
    "lalogrids = xgrids.swap_dims({\"x\": \"lon\"})\n",
    "lalogrids = lalogrids.swap_dims({\"y\": \"lat\"})\n"
   ]
  },
  {
   "cell_type": "code",
   "execution_count": null,
   "id": "sealed-american",
   "metadata": {
    "ExecuteTime": {
     "end_time": "2022-02-07T05:39:26.078965Z",
     "start_time": "2022-02-07T05:39:25.042259Z"
    }
   },
   "outputs": [],
   "source": [
    "#lets make sure we get our projection right!\n",
    "\n",
    "print(grids.projection)\n",
    "lon_0 = grids.get_projparams()['lon_0']\n",
    "lat_0 = grids.get_projparams()['lat_0']\n",
    "proj = ccrs.AzimuthalEquidistant(central_latitude=lat_0, central_longitude=lon_0)\n",
    "\n",
    "\n",
    "fig = plt.figure(figsize=[15, 7])\n",
    "display = pyart.graph.GridMapDisplay(grids)\n",
    "\n",
    "# panel sizes\n",
    "map_panel_axes = [0.05, 0.05, .4, .80]\n",
    "x_cut_panel_axes = [0.55, 0.10, .4, .25]\n",
    "y_cut_panel_axes = [0.55, 0.50, .4, .25]\n",
    "\n",
    "# panel 1\n",
    "ax1 = fig.add_axes(map_panel_axes, projection=proj)\n",
    "\n",
    "\n",
    "pc = xgrids.corrected_reflectivity.sel(z=3000, \n",
    "                        time=xgrids.time[0]).plot.pcolormesh(cmap=pyart.graph.cm_colorblind.HomeyerRainbow, \n",
    "                                                             vmin=-6, vmax=64, ax = ax1)\n",
    "gl = ax1.gridlines(draw_labels=True,\n",
    "                  linewidth=2, color='gray', alpha=0.5, linestyle='--')\n",
    "\n",
    "# ax1.add_feature(cfeature.RIVERS)\n",
    "# ax1.add_feature(cfeature.STATES)\n",
    "\n",
    "\n",
    "#ax.add_feature(cartopy.feature.NaturalEarthFeature('cultural', 'roads', '10m'))\n",
    "# roads = cfeature.NaturalEarthFeature(\n",
    "#     category='cultural',\n",
    "#     name='roads',\n",
    "#     scale='10m',\n",
    "#     facecolor='none',\n",
    "#     edgecolor='black',\n",
    "#     alpha=0.5)\n",
    "\n",
    "# ax1.add_feature(roads)\n",
    "\n",
    "# ax1.add_feature(cfeature.LAKES, zorder=0)\n",
    "\n",
    "\n",
    "# panel 2, along longitude slice.\n",
    "ax2 = fig.add_axes(x_cut_panel_axes)\n",
    "\n",
    "pc = lalogrids.corrected_reflectivity.sel(lat=-18, time=xgrids.time[0],method=\"nearest\").plot.pcolormesh(cmap=pyart.graph.cm_colorblind.HomeyerRainbow,\n",
    "                                                                      vmin=-6, vmax=64, ax=ax2)\n",
    "\n",
    "ax2.set_ylim([0,15000])\n",
    "#ax2.set_xlim([-120000,120000])\n",
    "ax2.set_xlabel('Distance from SGP CF (km)')\n",
    "\n",
    "# panel 3, along latitude slice\n",
    "ax3 = fig.add_axes(y_cut_panel_axes)\n",
    "\n",
    "pc = lalogrids.corrected_reflectivity.sel(lon=122, time=xgrids.time[0],method=\"nearest\").plot.pcolormesh(cmap=pyart.graph.cm_colorblind.HomeyerRainbow,\n",
    "                                                                      vmin=-6, vmax=64, ax=ax3)\n",
    "\n",
    "ax3.set_ylim([0,15000])\n",
    "#ax3.set_xlim([-120000,120000])\n",
    "ax3.set_xlabel('Distance from SGP CF (km)')\n"
   ]
  },
  {
   "cell_type": "code",
   "execution_count": null,
   "id": "historical-plasma",
   "metadata": {},
   "outputs": [],
   "source": []
  }
 ],
 "metadata": {
  "kernelspec": {
   "display_name": "Python 3 (ipykernel)",
   "language": "python",
   "name": "python3"
  },
  "language_info": {
   "codemirror_mode": {
    "name": "ipython",
    "version": 3
   },
   "file_extension": ".py",
   "mimetype": "text/x-python",
   "name": "python",
   "nbconvert_exporter": "python",
   "pygments_lexer": "ipython3",
   "version": "3.9.7"
  },
  "varInspector": {
   "cols": {
    "lenName": 16,
    "lenType": 16,
    "lenVar": 40
   },
   "kernels_config": {
    "python": {
     "delete_cmd_postfix": "",
     "delete_cmd_prefix": "del ",
     "library": "var_list.py",
     "varRefreshCmd": "print(var_dic_list())"
    },
    "r": {
     "delete_cmd_postfix": ") ",
     "delete_cmd_prefix": "rm(",
     "library": "var_list.r",
     "varRefreshCmd": "cat(var_dic_list()) "
    }
   },
   "types_to_exclude": [
    "module",
    "function",
    "builtin_function_or_method",
    "instance",
    "_Feature"
   ],
   "window_display": false
  }
 },
 "nbformat": 4,
 "nbformat_minor": 5
}
