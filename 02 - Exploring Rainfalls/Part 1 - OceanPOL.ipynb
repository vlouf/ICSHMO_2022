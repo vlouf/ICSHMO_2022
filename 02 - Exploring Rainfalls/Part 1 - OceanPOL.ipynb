{
 "cells": [
  {
   "cell_type": "markdown",
   "metadata": {},
   "source": [
    "# Ocean-POL\n",
    "\n",
    "The Ocean-Pol research radar is a C-band polarimetric weather radar mounted on the CSIRO operated Research Vessel (RV) Investigator. This ship-borne radar has operated since 2017.\n",
    "\n",
    "Data collected includes routine observations on all research voyages, including multiple trips to Antarctic waters, Heard Island and circumnavigation of Australia. Data has also been collected during field campaigns, including CAPRICORN (2016), Reef to Rainforest (2017) and Years of the Maritime Continent (2019). \n",
    "\n",
    "![opol](img/opol.jpg)\n"
   ]
  },
  {
   "cell_type": "code",
   "execution_count": null,
   "metadata": {
    "ExecuteTime": {
     "end_time": "2022-02-07T05:41:14.009079Z",
     "start_time": "2022-02-07T05:41:08.556151Z"
    }
   },
   "outputs": [],
   "source": [
    "%matplotlib inline\n",
    "import os\n",
    "import datetime\n",
    "import warnings\n",
    "\n",
    "import pyproj\n",
    "import requests\n",
    "import numpy as np\n",
    "import pandas as pd\n",
    "import xarray as xr\n",
    "import seaborn as sns\n",
    "\n",
    "import matplotlib.pyplot as plt\n",
    "import matplotlib.colors as colors\n",
    "from matplotlib.colors import LogNorm"
   ]
  },
  {
   "cell_type": "code",
   "execution_count": null,
   "metadata": {
    "ExecuteTime": {
     "end_time": "2022-02-07T05:41:17.500122Z",
     "start_time": "2022-02-07T05:41:14.010800Z"
    }
   },
   "outputs": [],
   "source": [
    "import bokeh\n",
    "from bokeh.io import output_notebook, show\n",
    "from bokeh.models import ColumnDataSource, HoverTool\n",
    "from bokeh.plotting import figure\n",
    "from bokeh.tile_providers import CARTODBPOSITRON_RETINA, get_provider\n",
    "from bokeh.models import TapTool"
   ]
  },
  {
   "cell_type": "code",
   "execution_count": null,
   "metadata": {
    "ExecuteTime": {
     "end_time": "2022-02-07T05:41:17.507887Z",
     "start_time": "2022-02-07T05:41:17.501304Z"
    }
   },
   "outputs": [],
   "source": [
    "output_notebook()"
   ]
  },
  {
   "cell_type": "code",
   "execution_count": null,
   "metadata": {
    "ExecuteTime": {
     "end_time": "2022-02-07T05:41:17.513674Z",
     "start_time": "2022-02-07T05:41:17.509585Z"
    }
   },
   "outputs": [],
   "source": [
    "warnings.simplefilter(\"ignore\")\n",
    "sns.set_style(\"whitegrid\")"
   ]
  },
  {
   "cell_type": "code",
   "execution_count": null,
   "metadata": {
    "ExecuteTime": {
     "end_time": "2022-02-07T05:41:18.200452Z",
     "start_time": "2022-02-07T05:41:17.514797Z"
    }
   },
   "outputs": [],
   "source": [
    "# Loading the lat/lon position of OceanPOL.\n",
    "opol_position = xr.open_dataset(\"data/opol_position.nc\")\n",
    "df = opol_position.to_dataframe()\n",
    "proj = pyproj.Proj(\"epsg:3857\")\n",
    "x, y = proj(opol_position.lon.values, opol_position.lat.values)\n",
    "df[\"x\"] = x\n",
    "df[\"y\"] = y\n",
    "ndf = df.resample(\"6H\").mean().dropna()\n",
    "datestr = lambda x: x.strftime(\"%Y-%m-%d\")\n",
    "ndf[\"datestr\"] = [*map(datestr, ndf.index)]\n",
    "source = ColumnDataSource(ndf)"
   ]
  },
  {
   "cell_type": "code",
   "execution_count": null,
   "metadata": {
    "ExecuteTime": {
     "end_time": "2022-02-07T05:41:18.286964Z",
     "start_time": "2022-02-07T05:41:18.201683Z"
    }
   },
   "outputs": [],
   "source": [
    "figure_shared_arguments = {\n",
    "    \"plot_width\": 800,\n",
    "    \"plot_height\": 725,\n",
    "    \"x_range\": (11125637, 17897168),\n",
    "    \"y_range\": (-9933422, -1133043),\n",
    "    \"x_axis_type\": \"mercator\",\n",
    "    \"y_axis_type\": \"mercator\",\n",
    "    \"tools\": \"pan,wheel_zoom,reset,save,tap\",\n",
    "}\n",
    "\n",
    "hover = HoverTool(\n",
    "    tooltips=[\n",
    "        (\"Date\", \"@datestr\"),\n",
    "        (\"Longitude\", \"@lon\"),\n",
    "        (\"Latitude\", \"@lat\"),        \n",
    "    ]\n",
    ")\n",
    "\n",
    "tile_provider = get_provider(CARTODBPOSITRON_RETINA)\n",
    "\n",
    "map_calib = figure(title=\"OPOL position\", **figure_shared_arguments)\n",
    "map_calib.add_tile(tile_provider)\n",
    "map_calib.circle(source=source, x=\"x\", y=\"y\")\n",
    "map_calib.add_tools(hover)\n",
    "\n",
    "taptool = map_calib.select(type=TapTool)\n",
    "# taptool.callback = OpenURL(url=\"@name\")\n",
    "show(map_calib)"
   ]
  },
  {
   "cell_type": "code",
   "execution_count": null,
   "metadata": {},
   "outputs": [],
   "source": []
  }
 ],
 "metadata": {
  "kernelspec": {
   "display_name": "Python 3 (ipykernel)",
   "language": "python",
   "name": "python3"
  },
  "language_info": {
   "codemirror_mode": {
    "name": "ipython",
    "version": 3
   },
   "file_extension": ".py",
   "mimetype": "text/x-python",
   "name": "python",
   "nbconvert_exporter": "python",
   "pygments_lexer": "ipython3",
   "version": "3.10.2"
  },
  "varInspector": {
   "cols": {
    "lenName": 16,
    "lenType": 16,
    "lenVar": 40
   },
   "kernels_config": {
    "python": {
     "delete_cmd_postfix": "",
     "delete_cmd_prefix": "del ",
     "library": "var_list.py",
     "varRefreshCmd": "print(var_dic_list())"
    },
    "r": {
     "delete_cmd_postfix": ") ",
     "delete_cmd_prefix": "rm(",
     "library": "var_list.r",
     "varRefreshCmd": "cat(var_dic_list()) "
    }
   },
   "types_to_exclude": [
    "module",
    "function",
    "builtin_function_or_method",
    "instance",
    "_Feature"
   ],
   "window_display": false
  }
 },
 "nbformat": 4,
 "nbformat_minor": 4
}
