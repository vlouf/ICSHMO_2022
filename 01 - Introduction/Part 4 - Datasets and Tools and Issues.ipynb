{
 "cells": [
  {
   "cell_type": "markdown",
   "metadata": {},
   "source": [
    "## Datasets Levels\n",
    "\n",
    "Weather radar datasets hosted on NCI consists of different product levels, namely:\n",
    "\n",
    "- Level 1: Uncorrected radar data in the spherical coordinates. Typically used if you want to generate indepth products/analysis.\n",
    "\n",
    "- Level 1b: Corrected and calibrated radar data in both spherical coordinates and Cartesian grids. Currently this is avalaible for CPOL, OceanPOL and CP2. The level 1b dataset is avalaible for NCI users on project rq0 and will be published externally later this year. Typically used if you want to skip the preprocessing steps. Corrections applied included those for attenuation, clutter removal and reflectivity calibration.\n",
    "\n",
    "- Level 2: Derived products in 2D cartesian coodinates using level 1b radar data. These products are typically at a set altitude and include rainfall rate, classification, echo top height etc. Data is organised into daily netcdf files for rapid analysis using tools like xarrays.\n",
    "\n",
    "## Datasets\n",
    "\n",
    "_CPOL_\n",
    "\n",
    "- CPOL radar was a polarimetric research weather radar in Darwin that operated from 1997-2017. The extra polarimetric information from this radar provides more robust retrievals of rainfall rate than the Z-R relationship.\n",
    "\n",
    "- Level 1 data can be downloaded from the [ARM website](https://www.arm.gov/capabilities/instruments/cpol).\n",
    "\n",
    "- Level 1b and 2 dataset hosted by NCI can be access through the [AURA](http://openradar.io) portal.\n",
    "\n",
    "- The code repository used to generate the level 2 dataset from the level 1 archive is avaliable [here](https://github.com/vlouf/cpol_processing). Data licenced under CC4.0-BY-NC-SA. Contact Valentin if you are interested in publishing analysis.\n",
    "\n",
    "_OceanPOL_\n",
    "\n",
    "- We will be teaching using the level 1b OceanPOL radar dataset, which is hosted on NCI under project hj10. OceanPOL is a polarimetric weather radar that is part of the RV Investigator and has been operating duing voyages from 2017. Datasets are arranged by voyage. Data licenced under CC4.0-BY-NC-SA. Contact Valentin if you are interested in publishing analysis.\n",
    "\n",
    "- Level 1b dataset hosted by NCI can be access through the [AURA](http://openradar.io) portal. The portal also includes a link to view voyage tracks.\n",
    "\n",
    "- Dataset updated irreguarlly following voyages.\n",
    "\n",
    "_CP2_\n",
    "\n",
    "- CP2 was a polarmetric radar location near Brisbane that operated between 2007 and 2015 for research purposes. This unique radar collected both S and X band measurements, allowing for dual-frequency analysis. Data licenced under CC4.0-BY-NC-SA. Contact Joshua if you are interested in publishing analysis.\n",
    "\n",
    "- Level 1 dataset hosted by NCI can be access through the [AURA](http://openradar.io) portal.\n",
    "\n",
    "_Operational Network_\n",
    "\n",
    "- The [Australian operation radar dataset](http://openradar.io/) is hosted on NCI under project rq0. This dataset contains 700+ years of weather radar data from the Australian network of 70+ radars and level 1 data updated daily. This dataset also includes newer polarimetric radars. Data licenced under CC4.0-BY-SA (commercial use permitted).\n",
    "\n",
    "- The level 1 data from this project is published. Level 1b and level 2 data available for NCI users.\n",
    "\n",
    "- To use the level 1 data, please reference the following [doi](http://dx.doi.org/10.25914/5cb686a8d9450).\n",
    "\n",
    "- The code repository used to generate the level 1b and 2 dataset from the level 1 archive is avaliable [here](https://git.nci.org.au/jss548/open-radar).\n",
    "\n",
    "_UQ-XPOL_\n",
    "\n",
    "- Data from the mobile UQ-XPOL data will soon be avalaible on NCI (on request).\n",
    "\n",
    "---\n",
    "\n",
    "<img align=\"left\" width=\"800\" height=\"800\" src=\"img/aura_webpage.png\" border=\"5\">\n",
    "\n"
   ]
  },
  {
   "cell_type": "markdown",
   "metadata": {},
   "source": [
    "## Python (3.6+) Tools\n",
    "\n",
    "Specific Radar Tools (for processing level 1 data)\n",
    "\n",
    "- [PyART](https://arm-doe.github.io/pyart/): is a Python module containing a collection of weather radar algorithms and utilities. Py-ART is used by the Atmospheric Radiation Measurement (ARM) Climate Research Facility for working with data from a number of its precipitation and cloud radars, but has been designed so that it can be used by others in the radar and atmospheric communities to examine, processes, and analyze data from many types of weather radars.\n",
    "\n",
    "- [wradlib](https://docs.wradlib.org/en/stable/): The ωradlib project has been initiated in order facilitate the use of weather radar data as well as to provide a common platform for research on new algorithms. ωradlib is designed to assist you in the most important steps of processing weather radar data. These may include: reading common data formats, georeferencing, converting reflectivity to rainfall intensity, identifying and correcting typical error sources (such as clutter or attenuation) and visualising the data.\n",
    "\n",
    "Data Processing Tools\n",
    "\n",
    "- [netCDF4](https://unidata.github.io/netcdf4-python/netCDF4/index.html): Python interface to the netCDF version 4 library (.nc files).\n",
    "- [HDF5](https://www.hdfgroup.org/solutions/hdf5/): a Pythonic interface to the HDF5 binary data format (format used for Australian operational radars).\n",
    "- [xarray](http://xarray.pydata.org/en/stable/): a package that makes working with labelled multi-dimensional arrays simple, efficient, and fun! allows for a more intuitive, more concise, and less error-prone experience. Builds upon the interfaces that pandas uses.\n",
    "- [pandas](https://pandas.pydata.org/): like xarray but for tables (smart excel-like tools) \n",
    "\n",
    "Editor Tools\n",
    "\n",
    "- [Jupyter Notebook](https://jupyter.org/): Provides an interactive browser-based environment for developing code\n",
    "- [Pangeo Binder](https://binder.pangeo.io/): Turns a code repository into a collection of interactive Jupyter Notebooks without needing a Python environment on your local computer (used Google Compute Engine)\n",
    "\n",
    "_How cool is that?_\n",
    "\n",
    "<img align=\"left\" width=\"300\" src=\"https://pangeo-binder.readthedocs.io/en/prod/_images/binder_logo.png\">\n",
    "\n"
   ]
  },
  {
   "cell_type": "markdown",
   "metadata": {},
   "source": [
    "---\n",
    "\n",
    "## Demonstration - Accessing Level 1 data from the operational network\n",
    "\n",
    "(you don't need acccess to NCI for this data!)"
   ]
  },
  {
   "cell_type": "code",
   "execution_count": null,
   "metadata": {},
   "outputs": [],
   "source": [
    "import os #used for system commands\n",
    "import tempfile #used to create temporary folders to store data\n",
    "import zipfile #used to extract tar files\n",
    "import urllib #used to download data via http\n",
    "from glob import glob #used for manipulating pathnames\n",
    "\n",
    "from matplotlib import pyplot as plt #plotting toolkit\n",
    "import pyart #python radar toolkit\n",
    "\n",
    "\"\"\"\n",
    "Options to define our data selection and plotting\n",
    "\"\"\"\n",
    "\n",
    "#Specific the radar and date we want to download\n",
    "radar_id     = '15' #this is the Dampier radar in WA. if using a single digit, include a leading 0, e.g., '02'. Complete list of radar id's is on openradar.io\n",
    "date_str     = '20200208' #in yyyymmdd\n",
    "base_url     = 'http://dapds00.nci.org.au/thredds/fileServer/rq0' #base url for NCI server\n",
    "\n",
    "#specify radar tilt and field to plot\n",
    "tilt      = 2 #third tilt (python starts from 0)!\n",
    "field     = 'DBZH' #reflectivity"
   ]
  },
  {
   "cell_type": "code",
   "execution_count": null,
   "metadata": {},
   "outputs": [],
   "source": [
    "\"\"\"\n",
    "here we build the server request url, download data and unzip\n",
    "\"\"\"\n",
    "\n",
    "#step 1: build request url and download zip file\n",
    "zip_fn       = radar_id + '_' + date_str + '.pvol.zip'\n",
    "request_url  = '/'.join([base_url, radar_id, date_str[0:4], 'vol', zip_fn])\n",
    "print('my request is ',request_url)\n",
    "#download the zip file\n",
    "urllib.request.urlretrieve(request_url, zip_fn)\n",
    "\n",
    "#step 2: extract the zip file to a temporary directory\n",
    "temp_dir = tempfile.mkdtemp()\n",
    "zip_fh = zipfile.ZipFile(zip_fn)\n",
    "zip_fh.extractall(path = temp_dir)\n",
    "zip_fh.close()\n",
    "\n",
    "#step 3: list all the volumes extracted from the zip file\n",
    "file_list = sorted(glob(temp_dir + '/*'))\n",
    "#print out file list with index\n",
    "for item in file_list:\n",
    "    print(file_list.index(item),item)\n",
    "#remove zip\n",
    "os.system('rm ' + zip_fn)"
   ]
  },
  {
   "cell_type": "code",
   "execution_count": null,
   "metadata": {},
   "outputs": [],
   "source": [
    "\"\"\"\n",
    "select a file from the list and plot\n",
    "\"\"\"\n",
    "\n",
    "#select index from file list\n",
    "my_index = 29\n",
    "#read in radar object using pyart\n",
    "radar = pyart.aux_io.read_odim_h5(file_list[my_index], file_field_names=True)\n",
    "#generate display object\n",
    "display = pyart.graph.RadarMapDisplay(radar)\n",
    "#plot reflectivity field from a single tilt (this function includes a basemap)\n",
    "fig = plt.figure(figsize=(16, 12), facecolor='w')\n",
    "display.plot_ppi_map('DBZH', tilt,\n",
    "                            vmin=-8, vmax=64, cmap=pyart.graph.cm_colorblind.HomeyerRainbow,\n",
    "                            resolution='10m')\n",
    "#this may take a little time"
   ]
  },
  {
   "cell_type": "markdown",
   "metadata": {},
   "source": [
    "# Non-meteorological returns (clutter)\n",
    "\n",
    "The follow section introduces non-meteorological returns with weather radar (like an observations).\n",
    "It is important to be aware of these issues when processing long time-series of data.\n",
    "\n",
    "For some scientists these returns provide a unique dataset! e.g., [Meade et al. 2019](https://www.nature.com/articles/s41598-019-46549-2)"
   ]
  },
  {
   "cell_type": "markdown",
   "metadata": {},
   "source": [
    "### Sources\n",
    "\n",
    "Any object within the path of the transmitted beam will results in scattering. The magnitude and stability of the scattering relates to the target's size and movements. Non-meteorological targets are a hindrance for climate studies, but have many uses otherwise, including radar calibration and ecological monitoring.\n",
    "\n",
    "\n",
    "- Ground\n",
    "- Buildings\n",
    "- Ships\n",
    "- Aircraft\n",
    "- Power lines\n",
    "- Birds/bats\n",
    "- Insects\n",
    "- Ocean waves\n",
    "- Suspended ash from bushfires or volcanoes\n",
    "- The sun\n",
    "- ~Unidentified Objects!?~ Debris from meteorites and rockets\n"
   ]
  },
  {
   "cell_type": "markdown",
   "metadata": {},
   "source": [
    "<img align=\"center\" width=\"800\" src=\"img/IDR71_20191221.gif\">\n",
    "\n",
    "<img align=\"center\" width=\"800\" src=\"img/IDR63_20191225.gif\">"
   ]
  },
  {
   "cell_type": "markdown",
   "metadata": {},
   "source": [
    "### Removing clutter\n",
    "\n",
    "Reflectivity (DBZH) products in the level 2 dataset have been processed to remove most ground clutter (some can still sneak through). It is difficult to remove smaller, non-stationary targets from convential single polarimetric data. Fortunately most clutter are stationary and can be removed by looking at the persistence of high reflectivity or using zero Doppler velocity.\n",
    "\n",
    "See example below of unprocessed \"DBZH\" field and clean \"DBZH_CLEAN\" field from the level 1 archive. The \"DBZH_CLEAN\" field is not avalaible for older datasets. Polarimetic radars allow for more accurate clutter removal."
   ]
  },
  {
   "cell_type": "markdown",
   "metadata": {},
   "source": [
    "The new Rainbow, VIC weather radar (80km NW of Horsham)\n",
    "\n",
    "<img align=\"left\" width=\"800\" height=\"800\" src=\"img/IDR95_satellite.png\" border=\"5\">\n"
   ]
  },
  {
   "cell_type": "markdown",
   "metadata": {},
   "source": [
    "<img align=\"left\" width=\"800\" height=\"800\" src=\"img/IDR95_TH.png\" border=\"5\">"
   ]
  },
  {
   "cell_type": "markdown",
   "metadata": {},
   "source": [
    "<img align=\"left\" width=\"800\" height=\"800\" src=\"img/IDR95_DBZH.png\" border=\"5\">"
   ]
  }
 ],
 "metadata": {
  "kernelspec": {
   "display_name": "Python 3 (ipykernel)",
   "language": "python",
   "name": "python3"
  },
  "language_info": {
   "codemirror_mode": {
    "name": "ipython",
    "version": 3
   },
   "file_extension": ".py",
   "mimetype": "text/x-python",
   "name": "python",
   "nbconvert_exporter": "python",
   "pygments_lexer": "ipython3",
   "version": "3.10.2"
  },
  "varInspector": {
   "cols": {
    "lenName": 16,
    "lenType": 16,
    "lenVar": 40
   },
   "kernels_config": {
    "python": {
     "delete_cmd_postfix": "",
     "delete_cmd_prefix": "del ",
     "library": "var_list.py",
     "varRefreshCmd": "print(var_dic_list())"
    },
    "r": {
     "delete_cmd_postfix": ") ",
     "delete_cmd_prefix": "rm(",
     "library": "var_list.r",
     "varRefreshCmd": "cat(var_dic_list()) "
    }
   },
   "types_to_exclude": [
    "module",
    "function",
    "builtin_function_or_method",
    "instance",
    "_Feature"
   ],
   "window_display": false
  }
 },
 "nbformat": 4,
 "nbformat_minor": 4
}
