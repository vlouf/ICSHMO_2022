{
 "cells": [
  {
   "cell_type": "markdown",
   "metadata": {},
   "source": [
    "## What is the reflectivity?\n",
    "\n",
    "From Wikipedia:\n",
    "> Reflectivity is the square of the magnitude of the Fresnel reflection coefficient, which is the ratio of the reflected to incident electric field; as such the reflection coefficient can be expressed as a complex number as determined by the Fresnel equations for a single layer, whereas the reflectance is always a positive real number. For homogeneous and semi-infinite materials, reflectivity is the same as reflectance.\n",
    "\n",
    "😪😪😪😪\n",
    "\n",
    "Not very helpful. What is the reflectance?\n",
    "\n",
    "> Reflectance of the surface of a material is its effectiveness in reflecting radiant energy. It is the fraction of incident electromagnetic power that is reflected at an interface.\n",
    "\n",
    "😪😪😪😪\n",
    "\n",
    "Ok, but what does it means?\n",
    "\n",
    "The radar sends a microwave beam, when it encounters a conductive object, this beams is partly absorbed by the target (called attenuation) and partly scattered in all directions. The radar antenna collects the part of the beam that is scattered back to it (the backscattering). The intensity (power) of the electromagnetic wave that is backscattered to the antenna, we call it Reflectivity (because it is reflected back to the antenna)."
   ]
  },
  {
   "cell_type": "markdown",
   "metadata": {},
   "source": [
    "## Let's open and plot a data file."
   ]
  },
  {
   "cell_type": "code",
   "execution_count": null,
   "metadata": {
    "ExecuteTime": {
     "end_time": "2022-02-07T05:34:04.028025Z",
     "start_time": "2022-02-07T05:34:01.152653Z"
    }
   },
   "outputs": [],
   "source": [
    "%matplotlib inline\n",
    "\n",
    "import pyart\n",
    "import numpy as np\n",
    "import xarray as xr\n",
    "import pandas as pd\n",
    "import cartopy.crs as ccrs\n",
    "import matplotlib.pyplot as plt"
   ]
  },
  {
   "cell_type": "code",
   "execution_count": null,
   "metadata": {
    "ExecuteTime": {
     "end_time": "2022-02-07T05:34:04.133352Z",
     "start_time": "2022-02-07T05:34:04.029977Z"
    }
   },
   "outputs": [],
   "source": [
    "dset = xr.open_dataset('data/502_20191123_210000_grid.nc')\n",
    "refl = np.squeeze(dset.corrected_reflectivity.values)"
   ]
  },
  {
   "cell_type": "code",
   "execution_count": null,
   "metadata": {
    "ExecuteTime": {
     "end_time": "2022-02-07T05:34:04.137208Z",
     "start_time": "2022-02-07T05:34:04.134570Z"
    }
   },
   "outputs": [],
   "source": [
    "x = np.linspace(-150e3, 150e3, 301)  # X-axis coordinates in meters\n",
    "y = np.linspace(-150e3, 150e3, 301)  # Y-axis coordinates in meters"
   ]
  },
  {
   "cell_type": "markdown",
   "metadata": {},
   "source": [
    "Configuring the projection in cartopy to plot the data onto a map. As specified in the dataset, the projection used for the data is aeqd (Azimuthal Equidistant)"
   ]
  },
  {
   "cell_type": "code",
   "execution_count": null,
   "metadata": {
    "ExecuteTime": {
     "end_time": "2022-02-07T05:34:04.145287Z",
     "start_time": "2022-02-07T05:34:04.138174Z"
    }
   },
   "outputs": [],
   "source": [
    "projection = ccrs.AzimuthalEquidistant(central_longitude=dset.attrs['origin_longitude'],\n",
    "                                       central_latitude=dset.attrs['origin_latitude'])"
   ]
  },
  {
   "cell_type": "code",
   "execution_count": null,
   "metadata": {
    "ExecuteTime": {
     "end_time": "2022-02-07T05:34:05.007177Z",
     "start_time": "2022-02-07T05:34:04.146967Z"
    }
   },
   "outputs": [],
   "source": [
    "datetime = pd.Timestamp(dset.time[0].to_pandas())\n",
    "\n",
    "fig = plt.figure(figsize=(12, 10))\n",
    "ax1 = plt.subplot(1, 1, 1, projection=projection)\n",
    "ax1.coastlines('10m')\n",
    "im = ax1.pcolormesh(x, y, refl[5, :, :], vmin=-15, vmax=75, cmap='pyart_HomeyerRainbow')\n",
    "\n",
    "# Plotting the range rings.\n",
    "theta = np.linspace(0, 2 * np.pi)\n",
    "for r in [50e3, 100e3, 150e3]:\n",
    "    ax1.plot(r * np.cos(theta), r * np.sin(theta), 'k', linewidth=1, alpha=0.75)\n",
    "\n",
    "plt.colorbar(im, ax=ax1, label='Reflectivity (dBZ)')\n",
    "plt.title(f'OceanPOL - {datetime.isoformat()} UTC')\n",
    "plt.show()"
   ]
  },
  {
   "cell_type": "markdown",
   "metadata": {},
   "source": [
    "## Marshall–Palmer relation\n",
    "\n",
    "The Z–R relationship developed by J. S. Marshall and W. M. Palmer (1948) is traditionally used to transform reflectivity into rainfall rate.\n",
    "\n",
    "The relationship is $Z = 200R^{1.6}$, where $Z\\, (mm^6\\cdot m^{-3})$ is the reflectivity factor and $R\\, \\mathrm{(mm\\cdot h^{-1})}$ is the rainfall rate. The relationship is sometimes generalized to the form $Z = aR^b$, where $a$ and $b$ are adjustable parameters.\n",
    "\n",
    "> Marshall, J. S., and W. McK. Palmer, 1948: The distribution of raindrops with size. J. Meteor., 5, 165–166."
   ]
  },
  {
   "cell_type": "code",
   "execution_count": null,
   "metadata": {
    "ExecuteTime": {
     "end_time": "2022-02-07T05:34:05.012464Z",
     "start_time": "2022-02-07T05:34:05.008818Z"
    }
   },
   "outputs": [],
   "source": [
    "marshall_palmer = lambda r: 200 * r ** 1.6\n",
    "rainrate = np.linspace(0.1, 1e3)\n",
    "reflectivity = marshall_palmer(rainrate)"
   ]
  },
  {
   "cell_type": "code",
   "execution_count": null,
   "metadata": {
    "ExecuteTime": {
     "end_time": "2022-02-07T05:34:05.702789Z",
     "start_time": "2022-02-07T05:34:05.014419Z"
    }
   },
   "outputs": [],
   "source": [
    "plt.plot(rainrate, reflectivity, label='Marshall-Palmer Z-R relation')\n",
    "plt.legend()\n",
    "plt.xscale('log')\n",
    "plt.yscale('log')\n",
    "plt.xlabel('Rain rate (mm/h)')\n",
    "plt.ylabel(r'$Z\\, (mm^6\\cdot m^{-3})$')\n",
    "plt.show()"
   ]
  },
  {
   "cell_type": "code",
   "execution_count": null,
   "metadata": {
    "ExecuteTime": {
     "end_time": "2022-02-07T05:34:05.990532Z",
     "start_time": "2022-02-07T05:34:05.703910Z"
    }
   },
   "outputs": [],
   "source": [
    "plt.plot(rainrate, 10 * np.log10(reflectivity), label='Marshall-Palmer Z-R relation')\n",
    "plt.legend()\n",
    "plt.xscale('log')\n",
    "plt.xlabel('Rain rate (mm/h)')\n",
    "plt.ylabel('$Z_m$ (dBZ)')\n",
    "plt.grid()\n",
    "plt.show()"
   ]
  },
  {
   "cell_type": "markdown",
   "metadata": {},
   "source": [
    "# Exercise 1\n",
    "\n",
    "Using the Marshall-Palmer relationship, plot the rainfall rate from the reflectivity measured on the first plot. \n",
    "\n",
    "Remember:\n",
    "$$ Z_m \\,(dBZ) = 10 \\log_{10} Z $$"
   ]
  },
  {
   "cell_type": "code",
   "execution_count": null,
   "metadata": {
    "ExecuteTime": {
     "end_time": "2022-02-07T05:34:05.993835Z",
     "start_time": "2022-02-07T05:34:05.991630Z"
    }
   },
   "outputs": [],
   "source": [
    "# Solution: %load solutions/intro_exercise1.py"
   ]
  },
  {
   "cell_type": "code",
   "execution_count": null,
   "metadata": {},
   "outputs": [],
   "source": []
  }
 ],
 "metadata": {
  "kernelspec": {
   "display_name": "Python 3 (ipykernel)",
   "language": "python",
   "name": "python3"
  },
  "language_info": {
   "codemirror_mode": {
    "name": "ipython",
    "version": 3
   },
   "file_extension": ".py",
   "mimetype": "text/x-python",
   "name": "python",
   "nbconvert_exporter": "python",
   "pygments_lexer": "ipython3",
   "version": "3.9.7"
  },
  "varInspector": {
   "cols": {
    "lenName": 16,
    "lenType": 16,
    "lenVar": 40
   },
   "kernels_config": {
    "python": {
     "delete_cmd_postfix": "",
     "delete_cmd_prefix": "del ",
     "library": "var_list.py",
     "varRefreshCmd": "print(var_dic_list())"
    },
    "r": {
     "delete_cmd_postfix": ") ",
     "delete_cmd_prefix": "rm(",
     "library": "var_list.r",
     "varRefreshCmd": "cat(var_dic_list()) "
    }
   },
   "types_to_exclude": [
    "module",
    "function",
    "builtin_function_or_method",
    "instance",
    "_Feature"
   ],
   "window_display": false
  }
 },
 "nbformat": 4,
 "nbformat_minor": 4
}
