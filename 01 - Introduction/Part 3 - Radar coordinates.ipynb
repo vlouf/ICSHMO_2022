{
 "cells": [
  {
   "cell_type": "markdown",
   "metadata": {},
   "source": [
    "# Radar data format:\n",
    "\n",
    "Radars from the Australian Bureau of Meteorology use the ODIM conventions (EU/Canada WMO standards) and the HDF file format to store radar data (odimh5). This is supported by the Python library Py-ART and several other libraries.\n",
    "\n",
    "In this notebook we will read a data file from the Bureau of Meteorology using Py-ART. We will plot the data and transform it's radar coordinates (spherical) to Cartesian space (x, y, z). In a later notebook, we will show how to apply this transformation to the data themselves (and not just for plotting), a process called gridding (interpolation + change of coordinates) to represent the data in x, y, z coordinates.\n",
    "\n",
    "We will use data from a hailstorm event sample by the Melbourne radar on the 19 Jan 2020. Melbourne's Laverton radar is a dual-polarisation radar. While dual-polarisation radars are not the subject of this workshop, we think you should know a couple of things about them: \n",
    "\n",
    "### What dual-polarisation radars do?\n",
    "\n",
    "- Theoretically, improve the accuracy of precipitation estimates, leading to better flash flood detection,\n",
    "- Ability to discern between heavy rain, hail, snow, and sleet,\n",
    "- Improved discrimination of non-meteorological echoes (e.g., ground clutter, chaff, anomalous propagation, birds, and tornado debris),\n",
    "- Identification of the melting layer (e.g., bright band)\n",
    "\n",
    "### What dual-polarisation radars don't do yet?\n",
    "\n",
    "- Will not improve tornado lead times,\n",
    "- Will not provide exact precipitation type at ground level,\n",
    "- Will not make coffee.\n",
    "\n",
    "### What is different from single-polarisation radars?\n",
    "\n",
    "Additional information from dual-pol can determine (as a function of the sampled volume): \n",
    "- particle shape\n",
    "- sample heterogeneity\n",
    "- water content\n",
    "\n",
    "### Let's look at some data\n",
    "\n",
    "Because radars produce a volume every 5 minutes (sometimes 6 min, sometimes 10 min for older radar), it can be a challenge to know when there's an interesting case study, or something worth to look at, when dealing with historical data. Radar volumes for a day are in the several gigabytes and with 240 files to explore, it becomes quickly a tedious task. To deal with that we often create quicklooks, simple plots that give us a basic idea on what to expect.\n",
    "\n",
    "\n",
    "![](img/opol_quicklooks_2019-12-25.png)"
   ]
  },
  {
   "cell_type": "markdown",
   "metadata": {},
   "source": [
    "In the figure above we can see the daily maximum reflectivity over the radar domain, and the frequency of occurence of echoes above a 40 dBZ threshold, that can be used as first approximation to identify convective rain. \n",
    "\n",
    "The first time series show the fraction of the radar domain occupied by stratiform/convective rain (here using a simple threshold). The other timeseries are vertical profiles (QVP) of several quantities that the radar measures. The reflectivity, the differential reflectivity (an indicator of the shape), the differential phase $(\\phi_{dp}$, an indicator of the medium that the waves go through), and the cross correlation ratio $(\\rho_{hv}$, an indicator if we are measuring hydrometeors). $\\rho_{hv}=1$ in rain, $\\rho_{hv}<0.6$ corresponds to debris, clear-air, non-meteorological echoes."
   ]
  },
  {
   "cell_type": "markdown",
   "metadata": {},
   "source": [
    "The OceanPOL data contains:\n",
    "- Air echo classification\n",
    "- Corrected differential phase\n",
    "- Corrected differential reflectivity\n",
    "- Corrected reflectivity\n",
    "- Corrected specific differential phase\n",
    "- Corrected velocity\n",
    "- Cross correlation ratio\n",
    "- Differential phase\n",
    "- Differential reflectivity\n",
    "- Normalized coherent power\n",
    "- Radar echo classification\n",
    "- Radar estimated rain rate\n",
    "- Signal to noise ratio\n",
    "- Spectrum width\n",
    "- Temperature (ECMWF reanalysis mapped to each radar gate)\n",
    "- Total power (raw reflectivity)\n",
    "- Velocity\n"
   ]
  },
  {
   "cell_type": "code",
   "execution_count": null,
   "metadata": {
    "ExecuteTime": {
     "end_time": "2022-02-07T05:16:04.149484Z",
     "start_time": "2022-02-07T05:16:02.389092Z"
    }
   },
   "outputs": [],
   "source": [
    "%matplotlib inline\n",
    "\n",
    "import pyart\n",
    "import cftime\n",
    "import cartopy.crs as ccrs\n",
    "import numpy as np\n",
    "import matplotlib.pyplot as plt"
   ]
  },
  {
   "cell_type": "code",
   "execution_count": null,
   "metadata": {
    "ExecuteTime": {
     "end_time": "2022-02-07T05:16:04.153692Z",
     "start_time": "2022-02-07T05:16:04.151335Z"
    }
   },
   "outputs": [],
   "source": [
    "#define radar file\n",
    "radar_file = 'data/OceanPOL-20191225-123000.nc'"
   ]
  },
  {
   "cell_type": "code",
   "execution_count": null,
   "metadata": {
    "ExecuteTime": {
     "end_time": "2022-02-07T05:16:04.851840Z",
     "start_time": "2022-02-07T05:16:04.154729Z"
    }
   },
   "outputs": [],
   "source": [
    "#read radar file into memory using pyart\n",
    "radar = pyart.io.read(radar_file)"
   ]
  },
  {
   "cell_type": "code",
   "execution_count": null,
   "metadata": {
    "ExecuteTime": {
     "end_time": "2022-02-07T05:16:04.863536Z",
     "start_time": "2022-02-07T05:16:04.854959Z"
    }
   },
   "outputs": [],
   "source": [
    "#inspect radar fields\n",
    "radar.fields.keys()"
   ]
  },
  {
   "cell_type": "markdown",
   "metadata": {},
   "source": [
    "## How to deal with Spherical coordinates?\n",
    "\n",
    "Radars are fixed instrument, generally put on top of a tower. They scan the atmosphere by spinning. They usually spin 360°, then change elevation (tilt higher) then spins 360° again, several time, up until we have a 3D representation of the atmosphere. Thus, by spinning and changing elevation, radar data are in **spherical coordinates**. However, not the *mathematical* definition of the spherical coordinates, it's the nautical definition. The azimuth starts at North and goes clock-wise (while mathematically it starts on the x-axis and goes counter-clockwise). Also, for radars coordinates the elevation goes upward, from ground to zenith (while in math the elevation goes from the z-axis, up, to the xy-plane, down).\n",
    "\n",
    "In short, 0° azimuth is North, 90° is East, 180° is South and 270° is West, increasing clockwise. For the elevation, 0° is the plane parallel to the ground and 90° is the zenith.\n",
    "![coords](img/coords.png)\n",
    "\n",
    "- Let's read one radar sweep\n",
    "- Transform the bearing angles into mathematical angles\n",
    "- Transform the spherical coordinates to Cartesian."
   ]
  },
  {
   "cell_type": "code",
   "execution_count": null,
   "metadata": {
    "ExecuteTime": {
     "end_time": "2022-02-07T05:16:04.872210Z",
     "start_time": "2022-02-07T05:16:04.865744Z"
    }
   },
   "outputs": [],
   "source": [
    "#get index values of 2nd sweep (Python index of 1)\n",
    "sweep = radar.get_slice(2)\n",
    "\n",
    "#read range and azimuth dimensions\n",
    "r = radar.range['data']  # to km\n",
    "radar_azi = radar.azimuth['data'][sweep]\n",
    "#read reflectivity dataset\n",
    "reflectivity = radar.fields['total_power']['data'][sweep]\n",
    "# Read the date.\n",
    "date = cftime.num2pydate(radar.time['data'][0], radar.time[\"units\"])"
   ]
  },
  {
   "cell_type": "code",
   "execution_count": null,
   "metadata": {
    "ExecuteTime": {
     "end_time": "2022-02-07T05:16:05.369398Z",
     "start_time": "2022-02-07T05:16:04.874558Z"
    }
   },
   "outputs": [],
   "source": [
    "#plot PPI in range/azimuth Cartesian space\n",
    "fig = plt.figure(figsize=(10, 8))\n",
    "plt.pcolormesh(r, radar_azi, reflectivity, cmap='pyart_HomeyerRainbow', vmin=-15, vmax=65)\n",
    "plt.xlabel('Range from radar (m)')\n",
    "plt.ylabel(r'Azimuth $(^\\circ)$ - 0 is North')\n",
    "plt.colorbar(label='Reflectivity (dBZ)')\n",
    "plt.title(f'OceanPOL radar - {date.isoformat()}')\n",
    "plt.xlim(0, 150e3)\n",
    "plt.show()"
   ]
  },
  {
   "cell_type": "code",
   "execution_count": null,
   "metadata": {
    "ExecuteTime": {
     "end_time": "2022-02-07T05:16:05.378129Z",
     "start_time": "2022-02-07T05:16:05.371889Z"
    }
   },
   "outputs": [],
   "source": [
    "# From angle bearing to mathematical angle.\n",
    "azimuth = np.pi / 180 * ((450 - radar_azi) % 360)  \n",
    "[R, A] = np.meshgrid(r, azimuth)"
   ]
  },
  {
   "cell_type": "code",
   "execution_count": null,
   "metadata": {
    "ExecuteTime": {
     "end_time": "2022-02-07T05:16:05.387139Z",
     "start_time": "2022-02-07T05:16:05.379173Z"
    }
   },
   "outputs": [],
   "source": [
    "# From spherical to Cartesian\n",
    "x = R * np.cos(A)\n",
    "y = R * np.sin(A)"
   ]
  },
  {
   "cell_type": "code",
   "execution_count": null,
   "metadata": {
    "ExecuteTime": {
     "end_time": "2022-02-07T05:16:05.659897Z",
     "start_time": "2022-02-07T05:16:05.388101Z"
    }
   },
   "outputs": [],
   "source": [
    "#plot PPI in range/azimuth Polar space\n",
    "fig = plt.figure(figsize=(10, 8))\n",
    "plt.pcolormesh(x, y, reflectivity, cmap='pyart_HomeyerRainbow', vmin=-15, vmax=65)\n",
    "plt.xlabel('x-coordinates from radar (m)')\n",
    "plt.xlabel('y-coordinates from radar (m)')\n",
    "plt.colorbar(label='Reflectivity (dBZ)')\n",
    "plt.title(f'OceanPOL radar - {date.isoformat()}')\n",
    "plt.xlim(-150e3, 150e3)\n",
    "plt.ylim(-150e3, 150e3)\n",
    "plt.show()"
   ]
  },
  {
   "cell_type": "markdown",
   "metadata": {},
   "source": [
    "### Let's plot the data onto a map"
   ]
  },
  {
   "cell_type": "code",
   "execution_count": null,
   "metadata": {
    "ExecuteTime": {
     "end_time": "2022-02-07T05:16:05.666302Z",
     "start_time": "2022-02-07T05:16:05.661985Z"
    }
   },
   "outputs": [],
   "source": [
    "#define mapping projection\n",
    "projection = ccrs.AzimuthalEquidistant(central_longitude=radar.longitude['data'][0],\n",
    "                                       central_latitude=radar.latitude['data'][0])"
   ]
  },
  {
   "cell_type": "code",
   "execution_count": null,
   "metadata": {
    "ExecuteTime": {
     "end_time": "2022-02-07T05:16:07.064441Z",
     "start_time": "2022-02-07T05:16:05.667231Z"
    }
   },
   "outputs": [],
   "source": [
    "fig = plt.figure(figsize=(10, 8))\n",
    "ax1 = plt.subplot(1, 1, 1, projection=projection)\n",
    "ax1.coastlines('10m')\n",
    "im = ax1.pcolormesh(x, y, reflectivity, cmap='pyart_HomeyerRainbow', vmin=-15, vmax=65)\n",
    "ax1.set_xlim(-150e3, 150e3)\n",
    "ax1.set_ylim(-150e3, 150e3)\n",
    "plt.colorbar(im, label='Reflectivity (dBZ)')\n",
    "plt.title(f'OceanPOL radar - {date.isoformat()}')\n",
    "plt.show()"
   ]
  },
  {
   "cell_type": "markdown",
   "metadata": {},
   "source": [
    "# Py-ART makes things easier"
   ]
  },
  {
   "cell_type": "code",
   "execution_count": null,
   "metadata": {
    "ExecuteTime": {
     "end_time": "2022-02-07T05:16:07.069616Z",
     "start_time": "2022-02-07T05:16:07.066458Z"
    }
   },
   "outputs": [],
   "source": [
    "gr = pyart.graph.RadarDisplay(radar)"
   ]
  },
  {
   "cell_type": "code",
   "execution_count": null,
   "metadata": {
    "ExecuteTime": {
     "end_time": "2022-02-07T05:16:07.320005Z",
     "start_time": "2022-02-07T05:16:07.071540Z"
    }
   },
   "outputs": [],
   "source": [
    "gr.plot_ppi(\"total_power\", sweep=2)\n",
    "plt.show()"
   ]
  },
  {
   "cell_type": "code",
   "execution_count": null,
   "metadata": {},
   "outputs": [],
   "source": []
  }
 ],
 "metadata": {
  "kernelspec": {
   "display_name": "Python 3 (ipykernel)",
   "language": "python",
   "name": "python3"
  },
  "language_info": {
   "codemirror_mode": {
    "name": "ipython",
    "version": 3
   },
   "file_extension": ".py",
   "mimetype": "text/x-python",
   "name": "python",
   "nbconvert_exporter": "python",
   "pygments_lexer": "ipython3",
   "version": "3.9.7"
  },
  "varInspector": {
   "cols": {
    "lenName": 16,
    "lenType": 16,
    "lenVar": 40
   },
   "kernels_config": {
    "python": {
     "delete_cmd_postfix": "",
     "delete_cmd_prefix": "del ",
     "library": "var_list.py",
     "varRefreshCmd": "print(var_dic_list())"
    },
    "r": {
     "delete_cmd_postfix": ") ",
     "delete_cmd_prefix": "rm(",
     "library": "var_list.r",
     "varRefreshCmd": "cat(var_dic_list()) "
    }
   },
   "types_to_exclude": [
    "module",
    "function",
    "builtin_function_or_method",
    "instance",
    "_Feature"
   ],
   "window_display": false
  }
 },
 "nbformat": 4,
 "nbformat_minor": 4
}
