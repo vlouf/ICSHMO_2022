{
 "cells": [
  {
   "cell_type": "markdown",
   "metadata": {},
   "source": [
    "# Let’s Write Some Python!\n",
    "\n",
    "This is a Jupyter notebook. Just type shift + enter to execute the code from a cell."
   ]
  },
  {
   "cell_type": "code",
   "execution_count": null,
   "metadata": {
    "ExecuteTime": {
     "end_time": "2022-02-07T03:52:07.454105Z",
     "start_time": "2022-02-07T03:52:07.450053Z"
    }
   },
   "outputs": [],
   "source": [
    "print(\"Hello ICSHMO 2022!\")"
   ]
  },
  {
   "cell_type": "code",
   "execution_count": null,
   "metadata": {
    "ExecuteTime": {
     "end_time": "2022-02-07T03:52:08.359948Z",
     "start_time": "2022-02-07T03:52:08.356023Z"
    }
   },
   "outputs": [],
   "source": [
    "print(12)"
   ]
  },
  {
   "cell_type": "code",
   "execution_count": null,
   "metadata": {
    "ExecuteTime": {
     "end_time": "2022-02-07T03:52:08.919539Z",
     "start_time": "2022-02-07T03:52:08.903830Z"
    }
   },
   "outputs": [],
   "source": [
    "12 * 3"
   ]
  },
  {
   "cell_type": "code",
   "execution_count": null,
   "metadata": {
    "ExecuteTime": {
     "end_time": "2022-02-07T03:52:09.526841Z",
     "start_time": "2022-02-07T03:52:09.522707Z"
    }
   },
   "outputs": [],
   "source": [
    "a = 3\n",
    "print(a ** 2)"
   ]
  },
  {
   "cell_type": "code",
   "execution_count": null,
   "metadata": {
    "ExecuteTime": {
     "end_time": "2022-02-07T03:52:10.173056Z",
     "start_time": "2022-02-07T03:52:10.167637Z"
    }
   },
   "outputs": [],
   "source": [
    "for x in range(10):\n",
    "    y = x ** 2\n",
    "    print(f\"The square of {x} is {y}.\")"
   ]
  },
  {
   "cell_type": "code",
   "execution_count": null,
   "metadata": {
    "ExecuteTime": {
     "end_time": "2022-02-07T03:52:13.720579Z",
     "start_time": "2022-02-07T03:52:13.245882Z"
    }
   },
   "outputs": [],
   "source": [
    "import numpy as np\n",
    "import matplotlib.pyplot as plt"
   ]
  },
  {
   "cell_type": "code",
   "execution_count": null,
   "metadata": {
    "ExecuteTime": {
     "end_time": "2022-02-07T03:52:15.648445Z",
     "start_time": "2022-02-07T03:52:15.645202Z"
    }
   },
   "outputs": [],
   "source": [
    "x = np.linspace(-2 * np.pi, 2 * np.pi)\n",
    "y = np.sin(x) / x"
   ]
  },
  {
   "cell_type": "code",
   "execution_count": null,
   "metadata": {
    "ExecuteTime": {
     "end_time": "2022-02-07T03:52:17.186285Z",
     "start_time": "2022-02-07T03:52:16.467120Z"
    }
   },
   "outputs": [],
   "source": [
    "plt.plot(x, y)\n",
    "plt.show()"
   ]
  },
  {
   "cell_type": "code",
   "execution_count": null,
   "metadata": {
    "ExecuteTime": {
     "end_time": "2022-02-07T03:52:20.223546Z",
     "start_time": "2022-02-07T03:52:20.075859Z"
    }
   },
   "outputs": [],
   "source": [
    "[X, Y] = np.meshgrid(x, x)\n",
    "Z = np.exp(- (X ** 2 + Y ** 2) / 10)\n",
    "im = plt.pcolormesh(x, x, Z, shading=\"auto\", vmin=0, vmax=1, cmap=\"YlOrRd\")\n",
    "plt.colorbar(im)\n",
    "plt.show()"
   ]
  },
  {
   "cell_type": "code",
   "execution_count": null,
   "metadata": {},
   "outputs": [],
   "source": []
  }
 ],
 "metadata": {
  "interpreter": {
   "hash": "fa0acd9e0c04ec0d21d38d9f8d3f9d92966ca261a8f614bca8d020ed5a4e0236"
  },
  "kernelspec": {
   "display_name": "Python 3 (ipykernel)",
   "language": "python",
   "name": "python3"
  },
  "language_info": {
   "codemirror_mode": {
    "name": "ipython",
    "version": 3
   },
   "file_extension": ".py",
   "mimetype": "text/x-python",
   "name": "python",
   "nbconvert_exporter": "python",
   "pygments_lexer": "ipython3",
   "version": "3.9.7"
  },
  "varInspector": {
   "cols": {
    "lenName": 16,
    "lenType": 16,
    "lenVar": 40
   },
   "kernels_config": {
    "python": {
     "delete_cmd_postfix": "",
     "delete_cmd_prefix": "del ",
     "library": "var_list.py",
     "varRefreshCmd": "print(var_dic_list())"
    },
    "r": {
     "delete_cmd_postfix": ") ",
     "delete_cmd_prefix": "rm(",
     "library": "var_list.r",
     "varRefreshCmd": "cat(var_dic_list()) "
    }
   },
   "types_to_exclude": [
    "module",
    "function",
    "builtin_function_or_method",
    "instance",
    "_Feature"
   ],
   "window_display": false
  }
 },
 "nbformat": 4,
 "nbformat_minor": 2
}
