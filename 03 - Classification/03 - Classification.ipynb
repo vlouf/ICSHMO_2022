{
 "cells": [
  {
   "cell_type": "markdown",
   "id": "49ee94c7-f4a9-41ce-8b0b-e5f1359e867f",
   "metadata": {},
   "source": [
    "# Classification\n",
    "\n",
    "Polarimetric radars measure both convectional information from scatterer's (reflectivity and Doppler velocity) and additional information that is derived from two orthogonally polarised pulses (Z<sub>H</sub> and Z<sub>V</sub>). This additional information can be used to infer the scatterer's shape, homogeneity and liquid water content. More specifically:\n",
    "\n",
    "1. Z<sub>dr</sub> (Differential Reflectivity)\n",
    "* ratio of Z<sub>H</sub> to Z<sub>V</sub> in dB\n",
    "* scatterers with vertically aligned shapes return negative values, horizontal shapes return positive values, purely chaotic or uniform shapes return zero. \n",
    "2. ρ<sub>hv</sub> (Co-polar Correleration Coefficient)\n",
    "* correlation between Z<sub>H</sub> and Z<sub>V</sub> returns\n",
    "* ρ<sub>hv</sub>→1 = increasingly homogeneous\n",
    "3. $\\phi$<sub>dp</sub> (Differential Phase)\n",
    "* phase shift between H and V polarisations.\n",
    "* Raindrops are oblate when sampled horizontally, therefore the H pulse encounters more of the drops than V pulse producing a positive phase shift.\n",
    "\n",
    "<br>"
   ]
  },
  {
   "cell_type": "markdown",
   "id": "2a544d61-80b5-41dd-adaa-54ed81e7d2ce",
   "metadata": {},
   "source": [
    "<img src=\"https://arrc.ou.edu/~guzhang/Polarimetry/img/intro/radarwave.png\" alt=\"concept\" width=\"600\"/>\n",
    "\n",
    "*Sketch of weather radar polarimetry principle. H and V denote the horizontal and vertical axes, respectively (source: https://arrc.ou.edu/~guzhang/Polarimetry/variables.htm)*"
   ]
  },
  {
   "cell_type": "markdown",
   "id": "4c40a187-4ada-4ed9-88df-c1bc07c2c4cd",
   "metadata": {},
   "source": [
    "<br>\n",
    "\n",
    "Using a combination of conventional and polarimetric information, it is possible to develop a robust classification of scatterer type. Thinking about this further, some examples are:\n",
    "\n",
    "1. Moderate intensity rain: moderate Z<sub>H</sub>, very high ρ<sub>hv</sub>, positive Z<sub>dr</sub>, some $\\phi$<sub>dp</sub>\n",
    "1. Dry Hail: high Z<sub>H</sub>, moderate ρ<sub>hv</sub>, zero or negative Z<sub>dr</sub>, little or no $\\phi$<sub>dp</sub>\n",
    "1. Ground clutter: high Z<sub>H</sub>, noisy ρ<sub>hv</sub>, noisy Z<sub>dr</sub>, no $\\phi$<sub>dp</sub>, no velocity\n",
    "1. Dry Ice crystals: low to moderate Z<sub>H</sub>, high ρ<sub>hv</sub>, Z<sub>dr</sub> depends on alignment, little or no $\\phi$<sub>dp</sub>,\n",
    "1. Smoke: low to moderate Z<sub>H</sub>, low ρ<sub>hv</sub>, noisy Z<sub>dr</sub>, no $\\phi$<sub>dp</sub>\n",
    "\n",
    "Note that melting hail and ice crystals will change their shape and liquid water content. This also allows for the detection of the 'melting layer'.\n",
    "\n",
    "For more information on the principles and applications of polarimetric weather radar, see Kumjian 2013 (doi: 10.15191/nwajom.2013.0119)\n",
    "\n",
    "<br>"
   ]
  },
  {
   "cell_type": "markdown",
   "id": "88e5554d-a3b8-48fa-9136-533d32aa1041",
   "metadata": {},
   "source": [
    "<img src=\"images/cp2-rhi.png\" alt=\"CP-2 RHI\" width=\"800\"/>"
   ]
  },
  {
   "cell_type": "markdown",
   "id": "6e3f17d9-989f-4e54-a65b-11d6f12ad965",
   "metadata": {},
   "source": [
    "## Let's begin.\n",
    "\n",
    "Today we'll do two exercises: First looking at developing our own simple logic-based classifier. Then we'll look at an widely used classifier and discuss potential improvement using machine learning.\n",
    "\n",
    "## Exercise 1: Logic-based classifier\n",
    "\n",
    "First, we can use python to download an OPOL volume\n",
    "\n",
    "[Link](https://dapds00.nci.org.au/thredds/catalog/hj10/opol/level_1b/v2020/ppi/in2019_t03/20191225/catalog.html?dataset=hj10/in2019_t03/20191225/9776HUB-PPIVol-20191225-123000-0000.cfradial.nc) to original data source accessed through openradar.io"
   ]
  },
  {
   "cell_type": "code",
   "execution_count": null,
   "id": "7dccbfd2-06f9-48fd-9165-cc0429f67e48",
   "metadata": {},
   "outputs": [],
   "source": [
    "import urllib.request\n",
    "import tempfile\n",
    "temp_dir = tempfile.mkdtemp()\n",
    "filename = '9776HUB-PPIVol-20191225-123000-0000.cfradial.nc'\n",
    "opol_vol_url= f'https://dapds00.nci.org.au/thredds/fileServer/hj10/opol/level_1b/v2020/ppi/in2019_t03/20191225/{filename}'\n",
    "opol_vol_local_ffn = f'{temp_dir}/{filename}'\n",
    "urllib.request.urlretrieve(opol_vol_url, opol_vol_local_ffn)"
   ]
  },
  {
   "cell_type": "markdown",
   "id": "d68b7956-e9a3-4516-82a9-c6c517f0578d",
   "metadata": {},
   "source": [
    "### We're going to experiment with using reflectivty (~scatterer intensity) and differential reflectivity (shape)"
   ]
  },
  {
   "cell_type": "code",
   "execution_count": null,
   "id": "b77fa4a5-32ea-4521-82a2-22806862cf26",
   "metadata": {},
   "outputs": [],
   "source": [
    "import pyart\n",
    "from matplotlib import pyplot as plt\n",
    "import matplotlib.colors as colors\n",
    "import numpy as np\n",
    "\n",
    "# read our OPOL volume and extract the reflectivity and differential reflectivity fields\n",
    "radar = pyart.io.read(opol_vol_local_ffn)\n",
    "reflectivity = radar.fields['total_power']['data']\n",
    "diff_reflectivity = radar.fields['differential_reflectivity']['data']\n",
    "\n",
    "#build a colormap for our simple classifier\n",
    "color_list = [\n",
    "    \"White\", #None\n",
    "    \"MediumBlue\", \n",
    "    \"MediumPurple\",\n",
    "    \"Green\",\n",
    "    \"Red\",\n",
    "    ]\n",
    "cmap = colors.ListedColormap(color_list)"
   ]
  },
  {
   "cell_type": "markdown",
   "id": "129478bd-ef7f-4a32-b2e1-c312c80b13b8",
   "metadata": {},
   "source": [
    "### As a first step let's create a simple (and very imperfect) classifier using reflectivity to distinguish between heavy precipitation (small hail/rain) and everything else"
   ]
  },
  {
   "cell_type": "code",
   "execution_count": null,
   "id": "0d308e6e-1c5e-4da4-8dc3-3df366e690b6",
   "metadata": {},
   "outputs": [],
   "source": [
    "simple_classifier = np.zeros_like(reflectivity)\n",
    "\n",
    "#some simple log rules based on what we discussed\n",
    "simple_classifier[reflectivity >= 30] = 1 #small hail/rain\n",
    "simple_classifier[reflectivity < 30] = 2 #everything else\n",
    "\n",
    "#add back into radar object and plot\n",
    "radar.add_field_like('radar_echo_classification', 'simple_classification', simple_classifier, replace_existing=True)\n",
    "\n",
    "fig, ax = plt.subplots()\n",
    "gr = pyart.graph.RadarDisplay(radar)\n",
    "gr.plot_ppi('simple_classification', sweep=6, vmin=-0.5, vmax=4.5, cmap=cmap)\n",
    "ax.set_xlim(0, 40)\n",
    "ax.set_ylim(20, 60)\n",
    "\n",
    "gr.cbs[-1].set_ticks([0, 1, 2])\n",
    "gr.cbs[-1].ax.set_yticklabels([\"None\", \"rain/small hail/grapuel\", \"everything else\"])"
   ]
  },
  {
   "cell_type": "markdown",
   "id": "fdde26d7-dfd4-4820-b5b4-258bfaa2e31c",
   "metadata": {},
   "source": [
    "### Now let's use differential reflectivity to separate rain from small hail"
   ]
  },
  {
   "cell_type": "code",
   "execution_count": null,
   "id": "95076ca3-5b0d-4498-881f-b342b4e3d742",
   "metadata": {},
   "outputs": [],
   "source": [
    "better_classifier = np.zeros_like(reflectivity)\n",
    "\n",
    "better_classifier[np.logical_and(reflectivity >= 30, diff_reflectivity > 0.5)] = 1 #rain\n",
    "better_classifier[np.logical_and(reflectivity >= 30, diff_reflectivity <= 0.5)] = 2 #small hail\n",
    "better_classifier[reflectivity < 30] = 3 #everything else\n",
    "\n",
    "radar.add_field_like('radar_echo_classification', 'better_classification', better_classifier, replace_existing=True)\n",
    "\n",
    "fig, ax = plt.subplots()\n",
    "gr = pyart.graph.RadarDisplay(radar)\n",
    "gr.plot_ppi('better_classification', sweep=6, vmin=-0.5, vmax=4.5, cmap=cmap)\n",
    "ax.set_xlim(0, 40)\n",
    "ax.set_ylim(20, 60)\n",
    "\n",
    "gr.cbs[-1].set_ticks([0, 1, 2, 3])\n",
    "gr.cbs[-1].ax.set_yticklabels([\"None\", \"rain\", \"small hail/grapuel\", \"everything else\"])"
   ]
  },
  {
   "cell_type": "markdown",
   "id": "ca57409c-e7d4-482f-a5c0-b27974b1666a",
   "metadata": {},
   "source": [
    "### We can take one step further and separate snow/light rain"
   ]
  },
  {
   "cell_type": "code",
   "execution_count": null,
   "id": "f48e9643-5ee8-49b0-9837-c2902d3303d5",
   "metadata": {},
   "outputs": [],
   "source": [
    "best_classifier = np.zeros_like(reflectivity)\n",
    "\n",
    "best_classifier[np.logical_and(reflectivity >= 30, diff_reflectivity > 0.5)] = 1 #rain\n",
    "best_classifier[np.logical_and(reflectivity >= 30, diff_reflectivity <= 0.5)] = 2 #small hail\n",
    "best_classifier[np.logical_and(reflectivity < 30, diff_reflectivity <= 0.5)] = 3 #snow or light rain\n",
    "best_classifier[np.logical_and(reflectivity < 30, diff_reflectivity > 0.5)] = 4 #everything else\n",
    "\n",
    "radar.add_field_like('radar_echo_classification', 'best_classification', best_classifier, replace_existing=True)\n",
    "\n",
    "fig, ax = plt.subplots()\n",
    "gr = pyart.graph.RadarDisplay(radar)\n",
    "gr.plot_ppi('best_classification', sweep=6, vmin=-0.5, vmax=4.5, cmap=cmap)\n",
    "ax.set_xlim(0, 40)\n",
    "ax.set_ylim(20, 60)\n",
    "\n",
    "gr.cbs[-1].set_ticks([0, 1, 2, 3, 4])\n",
    "gr.cbs[-1].ax.set_yticklabels([\"None\", \"rain\", \"small hail/grapuel\", \"snow/light rain\", \"everything else\"])"
   ]
  },
  {
   "cell_type": "markdown",
   "id": "d129b67c-d0bd-4e35-bd8d-de2cd9bee453",
   "metadata": {},
   "source": [
    "Looks like our classifier could be improved further by looking at the differential reflectivity threshold used for snow/light rain!\n",
    "\n",
    "### Task: Separate non meteorological from meteorological!\n",
    "\n",
    "In this task you'll be looking at a different area from the same radar volume that contains some non meteorological and meteorological returns. Non-meteorological includes terrain and clear air.\n",
    "\n",
    "Thinking about this some more...\n",
    "\n",
    "1) Terrain generally has a high Z and a low ρ<sub>hv</sub>.\n",
    "\n",
    "1) Clear air generally has a low Z and a low ρ<sub>hv</sub>.\n",
    "\n",
    "1) Meteorological echoes generally have a very high ρ<sub>hv</sub>.\n",
    "\n",
    "Let's now take a look at these fields"
   ]
  },
  {
   "cell_type": "code",
   "execution_count": null,
   "id": "a62e1e79-87bc-452f-b44d-b5e37988d6f3",
   "metadata": {},
   "outputs": [],
   "source": [
    "fig, axs = plt.subplots(1,2, figsize=(16,6))\n",
    "gr = pyart.graph.RadarDisplay(radar)\n",
    "gr.plot_ppi('total_power', sweep=0, vmin=-20, vmax=65, ax=axs[0])\n",
    "axs[0].set_xlim(0, 100)\n",
    "axs[0].set_ylim(-50, 50)\n",
    "gr.plot_ppi('cross_correlation_ratio', sweep=0, vmin=0, vmax=1, ax=axs[1])\n",
    "axs[1].set_xlim(0, 100)\n",
    "axs[1].set_ylim(-50, 50)"
   ]
  },
  {
   "cell_type": "markdown",
   "id": "18718e83-4aac-4f93-8c78-2a718bed2a79",
   "metadata": {},
   "source": [
    "Now you can develop your own filter! Insert values for A and B into the logical filters."
   ]
  },
  {
   "cell_type": "code",
   "execution_count": null,
   "id": "feb21643-ce72-4cb8-b70e-82736c246493",
   "metadata": {},
   "outputs": [],
   "source": [
    "A = ???? #reflectivity threshold\n",
    "B = ???? #cross correlation threshold\n",
    "\n",
    "reflectivity = radar.fields['total_power']['data']\n",
    "cross_correlation = radar.fields['cross_correlation_ratio']['data']\n",
    "my_classifier = np.zeros_like(reflectivity)\n",
    "\n",
    "my_classifier[np.logical_and(reflectivity < A, cross_correlation < B)] = 1 #clear air\n",
    "my_classifier[np.logical_and(reflectivity >= A, cross_correlation < B)] = 2 #terrain\n",
    "my_classifier[cross_correlation >= B] = 3 #meteorological\n",
    "\n",
    "radar.add_field_like('radar_echo_classification', 'my_classifier', my_classifier, replace_existing=True)\n",
    "\n",
    "fig, ax = plt.subplots()\n",
    "gr = pyart.graph.RadarDisplay(radar)\n",
    "gr.plot_ppi('my_classifier', sweep=0, vmin=-0.5, vmax=4.5, cmap=cmap)\n",
    "ax.set_xlim(0, 100)\n",
    "ax.set_ylim(-50, 50)\n",
    "gr.cbs[-1].set_ticks([0, 1, 2, 3])\n",
    "gr.cbs[-1].ax.set_yticklabels([\"None\", \"clear air\", \"terrain\", \"meteorological\"])\n"
   ]
  },
  {
   "cell_type": "markdown",
   "id": "ec040655-1efb-49ad-bf66-b3479ca4b22f",
   "metadata": {},
   "source": [
    "## Exercise 2: Exploring the CSU Hydrometeor Classification\n",
    "\n",
    "In this exercise you'll look at the fuzzy logic-based classifier developed by Colorado State University. See Thompson et al. (2014) doi:10.1175/JTECH-D-13-00119.1\n",
    "\n",
    "This classification is included as part of the level 1b files for all radar types/sites\n",
    "\n",
    "First we'll plot up the classification from our OPOL volume"
   ]
  },
  {
   "cell_type": "code",
   "execution_count": null,
   "id": "5a1835d6-4192-4bd4-b9dc-def2785950aa",
   "metadata": {},
   "outputs": [],
   "source": [
    "def adjust_csuhca_scheme_colorbar_for_pyart(cb):\n",
    "    \"\"\"\n",
    "    Generate colorbar for the hydrometeor classification.\n",
    "    \"\"\"\n",
    "    cb.set_ticks(np.linspace(0.5, 10.5, 11))\n",
    "    cb.ax.set_yticklabels(\n",
    "        [\n",
    "            \"None\",\n",
    "            \"Driz\",\n",
    "            \"Rain\",\n",
    "            \"IceCry\",\n",
    "            \"IceAgg\",\n",
    "            \"W Snow\",\n",
    "            \"V Ice\",\n",
    "            \"LD Gpl\",\n",
    "            \"HD Gpl\",\n",
    "            \"Hail\",\n",
    "            \"Big Dp\",\n",
    "        ]\n",
    "    )\n",
    "    cb.ax.set_ylabel(\"\")\n",
    "    cb.ax.tick_params(length=0)\n",
    "    return cb\n",
    "\n",
    "def csu_color_map():\n",
    "\n",
    "    color_list = [\n",
    "        \"White\", #None\n",
    "        \"LightBlue\", #Driz\n",
    "        \"SteelBlue\", #Rain\n",
    "        \"MediumBlue\", #IceCry\n",
    "        \"Plum\", #IceAgg\n",
    "        \"MediumPurple\", #W Snow\n",
    "        \"m\", #V Ice\n",
    "        \"Green\", #LD Gpl\n",
    "        \"YellowGreen\", #HD Gpl\n",
    "        \"Gold\", #Hail\n",
    "        \"Red\", #Big Dp\n",
    "        ]\n",
    "    \n",
    "    return colors.ListedColormap(color_list)\n",
    "\n",
    "def _plot_ppi(graph_obj, field_name, ax, vmin, vmax, cmap, sweep, ring_list):\n",
    "    \"\"\"\n",
    "    generated ppi plot for a given field using the graph object\n",
    "    \n",
    "    Parameters:\n",
    "    ===========\n",
    "        graph_obj: Py-ART graph object\n",
    "        field_name: string\n",
    "            field name\n",
    "        ax: axis handle\n",
    "        vmin: float\n",
    "            min value for colormap in units of field\n",
    "        vmax: float\n",
    "            max value for colormap in units of field\n",
    "        cmap: cmap name string from matplotlib or pyart\n",
    "        sweep: int\n",
    "            sweep index to plot\n",
    "        ring_list: list of ints\n",
    "            list of radius in km to plot range rings\n",
    "            \n",
    "    Returns:\n",
    "    ========\n",
    "        None\n",
    "    \n",
    "    \"\"\"\n",
    "    #create ppi plot\n",
    "    graph_obj.plot_ppi(field_name, sweep=sweep, ax=ax, vmin=vmin, vmax=vmax, cmap=cmap)\n",
    "    ax.set_title(graph_obj.generate_title(field_name, sweep=sweep, datetime_format='%Y-%m-%dT%H:%M'))\n",
    "    #annotate\n",
    "    graph_obj.plot_range_rings(ring_list, ax=ax)\n",
    "    ax.set_aspect(1)\n",
    "    ax.set_xlim(0, 40)\n",
    "    ax.set_ylim(20, 60)"
   ]
  },
  {
   "cell_type": "markdown",
   "id": "a83042e1-e4ad-4a3f-b19a-0dae135aad0f",
   "metadata": {},
   "source": [
    "Plot using the same sweep (6) as our basic classifiers"
   ]
  },
  {
   "cell_type": "code",
   "execution_count": null,
   "id": "4dcf023c-9306-46c1-872e-327587d61294",
   "metadata": {},
   "outputs": [],
   "source": [
    "gr = pyart.graph.RadarDisplay(radar)\n",
    "fig, the_ax = plt.subplots(2, 3, figsize=(14, 10), sharex=True, sharey=True, constrained_layout=True)\n",
    "the_ax = the_ax.flatten()\n",
    "\n",
    "sweep = 6\n",
    "gatefilter = pyart.correct.GateFilter(radar)\n",
    "ring_list = [25,50]\n",
    "\n",
    "# corrected and calibrated reflectivity\n",
    "_plot_ppi(gr, 'total_power', the_ax[0], vmin=0, vmax=70,\n",
    "          cmap='pyart_NWSRef', sweep=sweep, ring_list=ring_list)\n",
    "# Doppler velocity\n",
    "_plot_ppi(gr, 'velocity', the_ax[1], vmin=-13, vmax=13,\n",
    "          cmap='pyart_BuDRd12', sweep=sweep, ring_list=ring_list)\n",
    "#differential reflectivity\n",
    "_plot_ppi(gr, 'differential_reflectivity', the_ax[2], vmin=-1, vmax=6,\n",
    "          cmap='pyart_RefDiff',sweep=sweep, ring_list=ring_list)\n",
    "#cross_correlation_ratio\n",
    "_plot_ppi(gr, 'cross_correlation_ratio', the_ax[3], vmin=0.9, vmax=1,\n",
    "            cmap='pyart_RefDiff', sweep=sweep, ring_list=ring_list)  \n",
    "#corrected_differential_phase\n",
    "_plot_ppi(gr, 'corrected_differential_phase', the_ax[4], vmin=0, vmax=60,\n",
    "          cmap='pyart_Wild25', sweep=sweep, ring_list=ring_list)    \n",
    "# Classification        \n",
    "csuhca_cmap = csu_color_map()\n",
    "_plot_ppi(gr, 'radar_echo_classification', the_ax[5], vmin=0, vmax=11,\n",
    "                          cmap=csuhca_cmap, sweep=sweep, ring_list=ring_list)\n",
    "gr.cbs[-1] = adjust_csuhca_scheme_colorbar_for_pyart(gr.cbs[-1])"
   ]
  },
  {
   "cell_type": "markdown",
   "id": "11492180-d102-4c78-9980-c17cf936136b",
   "metadata": {},
   "source": [
    "Let's now look at the lowest sweep"
   ]
  },
  {
   "cell_type": "code",
   "execution_count": null,
   "id": "4344ee93-7695-4fac-8e28-87b76928b796",
   "metadata": {},
   "outputs": [],
   "source": [
    "gr = pyart.graph.RadarDisplay(radar)\n",
    "fig, the_ax = plt.subplots(2, 3, figsize=(14, 10), sharex=True, sharey=True, constrained_layout=True)\n",
    "the_ax = the_ax.flatten()\n",
    "\n",
    "plt_range = 75 #km\n",
    "sweep = 0\n",
    "gatefilter = pyart.correct.GateFilter(radar)\n",
    "\n",
    "# corrected and calibrated reflectivity\n",
    "_plot_ppi(gr, 'total_power', the_ax[0], vmin=0, vmax=70,\n",
    "          cmap='pyart_NWSRef', sweep=sweep, ring_list=ring_list)\n",
    "# Doppler velocity\n",
    "_plot_ppi(gr, 'velocity', the_ax[1], vmin=-13, vmax=13,\n",
    "          cmap='pyart_BuDRd12', sweep=sweep, ring_list=ring_list)\n",
    "# differential reflectivity\n",
    "_plot_ppi(gr, 'differential_reflectivity', the_ax[2], vmin=-1, vmax=6,\n",
    "          cmap='pyart_RefDiff',sweep=sweep, ring_list=ring_list)\n",
    "# cross_correlation_ratio\n",
    "_plot_ppi(gr, 'cross_correlation_ratio', the_ax[3], vmin=0.9, vmax=1,\n",
    "            cmap='pyart_RefDiff', sweep=sweep, ring_list=ring_list)  \n",
    "# corrected_differential_phase\n",
    "_plot_ppi(gr, 'corrected_differential_phase', the_ax[4], vmin=0, vmax=60,\n",
    "          cmap='pyart_Wild25', sweep=sweep, ring_list=ring_list)    \n",
    "# Classification        \n",
    "csuhca_cmap = csu_color_map()\n",
    "_plot_ppi(gr, 'radar_echo_classification', the_ax[5], vmin=0, vmax=11,\n",
    "                          cmap=csuhca_cmap, sweep=sweep, ring_list=ring_list)\n",
    "gr.cbs[-1] = adjust_csuhca_scheme_colorbar_for_pyart(gr.cbs[-1])"
   ]
  },
  {
   "cell_type": "markdown",
   "id": "2f71e30e-5a72-48ff-b8f3-bb138d1a4453",
   "metadata": {},
   "source": [
    "### Task: Let's dig into this classifier a bit to see what's driving the different ice crystal types!\n",
    "\n",
    "We can do this by extracting fields that relate to ice crystals and see how the classifier separates the phase spaces.\n",
    "\n",
    "These classes are:\n",
    "\n",
    "1) Vertical Ice (vertically oriented small particles)\n",
    "2) Wet Snow (melting ice)\n",
    "3) Ice Aggregates (randomly shaped larger particles)\n",
    "4) Ice Crystals (more uniformly shaped small particles)"
   ]
  },
  {
   "cell_type": "code",
   "execution_count": null,
   "id": "adcbdf79-3147-4f03-a659-dfacfb474757",
   "metadata": {},
   "outputs": [],
   "source": [
    "import matplotlib as mpl\n",
    "mpl.rcParams.update({\"axes.grid\" : True, \"lines.markersize\":1})\n",
    "\n",
    "#exact out these fields\n",
    "reflectivity = radar.fields['corrected_reflectivity']['data'].flatten()\n",
    "diff_reflectivity = radar.fields['corrected_differential_reflectivity']['data'].flatten()\n",
    "cross_correlation = radar.fields['cross_correlation_ratio']['data'].flatten()\n",
    "kdp = radar.fields['corrected_specific_differential_phase']['data'].flatten()\n",
    "temperature = radar.fields['temperature']['data'].flatten()\n",
    "csu_classifier = radar.fields['radar_echo_classification']['data'].flatten()\n",
    "\n",
    "#create masks for the classes in question\n",
    "vertical_ice_mask = csu_classifier==6\n",
    "wet_snow_mask = csu_classifier==5\n",
    "ice_aggregates_mask = csu_classifier==4\n",
    "ice_crystal_mask = csu_classifier==3\n",
    "\n",
    "#create figures for each field, which contain subplots of each class\n",
    "\n",
    "#reflectivity vs cross correlation\n",
    "fig, ((ax0, ax1), (ax2, ax3)) = plt.subplots(2,2, figsize=(14, 10), sharex=True, sharey=True)\n",
    "ax0.plot(reflectivity[vertical_ice_mask], cross_correlation[vertical_ice_mask], 'r.')\n",
    "ax1.plot(reflectivity[wet_snow_mask], cross_correlation[wet_snow_mask], 'b.')\n",
    "ax2.plot(reflectivity[ice_aggregates_mask], cross_correlation[ice_aggregates_mask], 'g.')\n",
    "ax3.plot(reflectivity[ice_crystal_mask], cross_correlation[ice_crystal_mask], 'm.')\n",
    "ax0.set(ylabel = 'Cross Correlation', title='Vertical Ice')\n",
    "ax1.set(title='Wet Snow')\n",
    "ax2.set(xlabel = 'Reflectivity (dBZ)', ylabel = 'Cross Correlation', title='Ice Agg.')\n",
    "ax3.set(xlabel = 'Reflectivity (dBZ)', title='Ice Crystals')\n",
    "\n",
    "#reflectivity vs differential reflectivity\n",
    "fig, ((ax0, ax1), (ax2, ax3)) = plt.subplots(2,2, figsize=(14, 10), sharex=True, sharey=True)\n",
    "ax0.plot(reflectivity[vertical_ice_mask], diff_reflectivity[vertical_ice_mask], 'r.')\n",
    "ax1.plot(reflectivity[wet_snow_mask], diff_reflectivity[wet_snow_mask], 'b.')\n",
    "ax2.plot(reflectivity[ice_aggregates_mask], diff_reflectivity[ice_aggregates_mask], 'g.')\n",
    "ax3.plot(reflectivity[ice_crystal_mask], diff_reflectivity[ice_crystal_mask], 'm.')\n",
    "ax0.set(ylabel = 'Differential Reflectivity (dB)', title='Vertical Ice')\n",
    "ax1.set(title='Wet Snow')\n",
    "ax2.set(xlabel = 'Reflectivity (dBZ)', ylabel = 'Differential Reflectivity (dB)', title='Ice Agg.')\n",
    "ax3.set(xlabel = 'Reflectivity (dBZ)', title='Ice Crystals')\n",
    "\n",
    "#reflectivity vs Specific Differential Phase\n",
    "fig, ((ax0, ax1), (ax2, ax3)) = plt.subplots(2,2, figsize=(14, 10), sharex=True, sharey=True)\n",
    "ax0.plot(reflectivity[vertical_ice_mask], kdp[vertical_ice_mask], 'r.')\n",
    "ax1.plot(reflectivity[wet_snow_mask], kdp[wet_snow_mask], 'b.')\n",
    "ax2.plot(reflectivity[ice_aggregates_mask], kdp[ice_aggregates_mask], 'g.')\n",
    "ax3.plot(reflectivity[ice_crystal_mask], kdp[ice_crystal_mask], 'm.')\n",
    "ax0.set(ylabel = 'Specific Differential Phase (deg/km)', title='Vertical Ice')\n",
    "ax1.set(title='Wet Snow')\n",
    "ax2.set(xlabel = 'Reflectivity (dBZ)', ylabel = 'Specific Differential Phase (deg/km)', title='Ice Agg.')\n",
    "ax3.set(xlabel = 'Reflectivity (dBZ)', title='Ice Crystals')\n",
    "\n",
    "#reflectivity vs temperature\n",
    "fig, ((ax0, ax1), (ax2, ax3)) = plt.subplots(2,2, figsize=(14, 10), sharex=True, sharey=True)\n",
    "ax0.plot(reflectivity[vertical_ice_mask], temperature[vertical_ice_mask], 'r.')\n",
    "ax1.plot(reflectivity[wet_snow_mask], temperature[wet_snow_mask], 'b.')\n",
    "ax2.plot(reflectivity[ice_aggregates_mask], temperature[ice_aggregates_mask], 'g.')\n",
    "ax3.plot(reflectivity[ice_crystal_mask], temperature[ice_crystal_mask], 'm.')\n",
    "ax0.set(ylabel = 'Temperature (deg C)', title='Vertical Ice')\n",
    "ax1.set(title='Wet Snow')\n",
    "ax2.set(xlabel = 'Reflectivity (dBZ)', ylabel = 'Temperature (deg C)', title='Ice Agg.')\n",
    "ax3.set(xlabel = 'Reflectivity (dBZ)', title='Ice Crystals')\n",
    "\n",
    "# plt.xlim([-20,50])\n",
    "# plt.ylim([0,1])"
   ]
  },
  {
   "cell_type": "markdown",
   "id": "3c68a47d-a48a-4c4b-9960-10db59bbf324",
   "metadata": {},
   "source": [
    "Exercise 1: Comment on what field is most effective for distinguishing each class, and how this field relates to the microphysics\n",
    "\n",
    "Exercise 2: Release this analysis for the classes Rain, Hail and Big Drops (2, 9, 10)"
   ]
  },
  {
   "cell_type": "markdown",
   "id": "fea6539f-2e25-447a-ad2a-50a246e9e9a1",
   "metadata": {},
   "source": [
    "## Final Discussion\n",
    "\n",
    "Classification algorithms\n",
    "\n",
    "A majority of classification algorithms are built on fuzzy logic principles and often include additional information from numerical models (e.g., temperature) and derived fields (e.g., $\\phi$<sub>dp</sub> texture). Fuzzy logic is essentially a series of logic-based rules (similar to the first exercise) that are combined to generate a confidence value for each class. The class with the greatent confidence value is then assigned to that pixel.\n",
    "\n",
    "Machine learning offers an exciting avenue to improve upon the skill of fuzzy logic approaches. In particular, unsupervised clustering allows the user to determine the optimal set of probability functions for determining a class, which then can be later labelled by an experienced user who understands what the radar observed properties of each class represent. One example of unsupervised learning that suits radar data is the Gaussian Mixture Model."
   ]
  },
  {
   "cell_type": "markdown",
   "id": "9b769820-13e0-4c44-b91a-a2f3335b5d80",
   "metadata": {},
   "source": [
    "<img src=\"https://miro.medium.com/max/1120/0*niDMiq9BqE0nl-Gi.png\" alt=\"concept\" width=\"600\"/>\n",
    "\n",
    "Example Gaussian Mixture Model that has been used to identify 2 clusters"
   ]
  },
  {
   "cell_type": "code",
   "execution_count": null,
   "id": "3027c560-16c7-410b-8345-56dce65a476c",
   "metadata": {},
   "outputs": [],
   "source": []
  }
 ],
 "metadata": {
  "kernelspec": {
   "display_name": "Python 3 (ipykernel)",
   "language": "python",
   "name": "python3"
  },
  "language_info": {
   "codemirror_mode": {
    "name": "ipython",
    "version": 3
   },
   "file_extension": ".py",
   "mimetype": "text/x-python",
   "name": "python",
   "nbconvert_exporter": "python",
   "pygments_lexer": "ipython3",
   "version": "3.10.2"
  }
 },
 "nbformat": 4,
 "nbformat_minor": 5
}
